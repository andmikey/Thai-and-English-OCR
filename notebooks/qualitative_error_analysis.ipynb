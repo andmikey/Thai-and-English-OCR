{
 "cells": [
  {
   "cell_type": "markdown",
   "metadata": {},
   "source": [
    "# A short qualitative error analysis"
   ]
  },
  {
   "cell_type": "markdown",
   "metadata": {},
   "source": [
    "I'm going to look at the results of the joint Thai-English normal text training task. I have a (small!) hypothesis that the model hasn't learned to distinguish between similarly-shaped English and Thai letters very well.\n",
    "\n",
    "Let's grab five examples of the letter A from the test set of that model run:\n",
    "\n",
    "```sh\n",
    "cat /home/gusandmich@GU.GU.SE/assignment_1_run_results/runs/thai_english_normal_jointly/data/testing_set.txt | grep \"English,200,normal,065,\" | head -n5 > test_ds.txt\n",
    "``` \n",
    "\n",
    "Now let's try running the model, trained on Thai-English normal text jointly, on these letters and see what predictions we get."
   ]
  },
  {
   "cell_type": "code",
   "execution_count": 41,
   "metadata": {},
   "outputs": [],
   "source": [
    "import torch \n",
    "import sys\n",
    "sys.path.append('../assignment_code')\n",
    "from model import BasicNetwork\n",
    "import utils \n",
    "from PIL import Image \n",
    "from torchvision.transforms import Resize\n",
    "from torchvision.transforms.functional import pil_to_tensor, to_pil_image\n",
    "import matplotlib.pyplot as plt\n"
   ]
  },
  {
   "cell_type": "code",
   "execution_count": 65,
   "metadata": {},
   "outputs": [],
   "source": [
    "# Lookup from the dataset numerical encoding to the actual letter\n",
    "mappings_path = \"/scratch/lt2326-2926-h24/ThaiOCR/ThaiOCR-TrainigSet/Numeric/20110202-List-Code-Character-OCR-Training-Database.txt\"\n",
    "\n",
    "char_mappings = {}\n",
    "with open(mappings_path, encoding=\"windows-1252\") as f:\n",
    "    for line in f.readlines():\n",
    "        splt = line.split()\n",
    "        if len(splt) > 1:\n",
    "            idx, chr = (splt[0], splt[1])\n",
    "            char_mappings[int(idx)] = chr\n"
   ]
  },
  {
   "cell_type": "code",
   "execution_count": 7,
   "metadata": {},
   "outputs": [
    {
     "data": {
      "text/plain": [
       "BasicNetwork(\n",
       "  (feature): Sequential(\n",
       "    (0): Conv2d(1, 6, kernel_size=(5, 5), stride=(1, 1), padding=(2, 2))\n",
       "    (1): Tanh()\n",
       "    (2): AvgPool2d(kernel_size=4, stride=2, padding=0)\n",
       "    (3): Conv2d(6, 16, kernel_size=(5, 5), stride=(1, 1))\n",
       "    (4): Tanh()\n",
       "    (5): AvgPool2d(kernel_size=4, stride=2, padding=0)\n",
       "  )\n",
       "  (classifier): Sequential(\n",
       "    (0): Flatten(start_dim=1, end_dim=-1)\n",
       "    (1): Linear(in_features=2304, out_features=120, bias=True)\n",
       "    (2): Tanh()\n",
       "    (3): Linear(in_features=120, out_features=84, bias=True)\n",
       "    (4): Tanh()\n",
       "    (5): Linear(in_features=84, out_features=286, bias=True)\n",
       "  )\n",
       ")"
      ]
     },
     "execution_count": 7,
     "metadata": {},
     "output_type": "execute_result"
    }
   ],
   "source": [
    "model_path = \"/home/gusandmich@GU.GU.SE/assignment_1_run_results/runs/thai_english_normal_jointly/outputs/model.pth\"\n",
    "model = BasicNetwork(utils.NUM_CLASSES, 64)\n",
    "device = torch.device(\"cuda:0\" if torch.cuda.is_available() else \"cpu\")\n",
    "model.load_state_dict(torch.load(model_path, weights_only=True))\n",
    "model.to(device)"
   ]
  },
  {
   "cell_type": "code",
   "execution_count": 8,
   "metadata": {},
   "outputs": [],
   "source": [
    "test_files = [\"/scratch/lt2326-2926-h24/ThaiOCR/ThaiOCR-TrainigSet/English/065/200/normal/FSEB212_200_10_16_065.bmp\", \n",
    "              \"/scratch/lt2326-2926-h24/ThaiOCR/ThaiOCR-TrainigSet/English/065/200/normal/FSES213_200_11_20_065.bmp\", \n",
    "              \"/scratch/lt2326-2926-h24/ThaiOCR/ThaiOCR-TrainigSet/English/065/200/normal/PPEB211_200_10_08_065.bmp\", \n",
    "              \"/scratch/lt2326-2926-h24/ThaiOCR/ThaiOCR-TrainigSet/English/065/200/normal/JTEB212_200_10_18_065.bmp\", \n",
    "              \"/scratch/lt2326-2926-h24/ThaiOCR/ThaiOCR-TrainigSet/English/065/200/normal/IRES212_200_11_16_065.bmp\"]"
   ]
  },
  {
   "cell_type": "code",
   "execution_count": 82,
   "metadata": {},
   "outputs": [
    {
     "name": "stdout",
     "output_type": "stream",
     "text": [
      "Image: \n"
     ]
    },
    {
     "data": {
      "image/jpeg": "[encoded data removed]",
      "image/png": "[encoded data removed]",
      "text/plain": [
       "<PIL.Image.Image image mode=L size=64x64>"
      ]
     },
     "metadata": {},
     "output_type": "display_data"
    },
    {
     "name": "stdout",
     "output_type": "stream",
     "text": [
      "Top five predicted classes: \n",
      "Class: 167\n",
      "Character mapping: §\n",
      "Prediction: 3.512225866317749\n",
      "\n",
      "Class: 214\n",
      "Character mapping: ÍÖ\n",
      "Prediction: 3.231112003326416\n",
      "\n",
      "Class: 230\n",
      "Character mapping: æ\n",
      "Prediction: 3.1296260356903076\n",
      "\n",
      "Class: 178\n",
      "Character mapping: ²\n",
      "Prediction: 3.0809879302978516\n",
      "\n",
      "Class: 65\n",
      "Character mapping: A\n",
      "Prediction: 3.0626657009124756\n",
      "\n",
      "Image: \n"
     ]
    },
    {
     "data": {
      "image/jpeg": "[encoded data removed]",
      "image/png": "[encoded data removed]",
      "text/plain": [
       "<PIL.Image.Image image mode=L size=64x64>"
      ]
     },
     "metadata": {},
     "output_type": "display_data"
    },
    {
     "name": "stdout",
     "output_type": "stream",
     "text": [
      "Top five predicted classes: \n",
      "Class: 167\n",
      "Character mapping: §\n",
      "Prediction: 3.6596262454986572\n",
      "\n",
      "Class: 214\n",
      "Character mapping: ÍÖ\n",
      "Prediction: 3.578819513320923\n",
      "\n",
      "Class: 65\n",
      "Character mapping: A\n",
      "Prediction: 3.0756256580352783\n",
      "\n",
      "Class: 230\n",
      "Character mapping: æ\n",
      "Prediction: 2.96547532081604\n",
      "\n",
      "Class: 170\n",
      "Character mapping: ª\n",
      "Prediction: 2.8144917488098145\n",
      "\n",
      "Image: \n"
     ]
    },
    {
     "data": {
      "image/jpeg": "[encoded data removed]",
      "image/png": "[encoded data removed]",
      "text/plain": [
       "<PIL.Image.Image image mode=L size=64x64>"
      ]
     },
     "metadata": {},
     "output_type": "display_data"
    },
    {
     "name": "stdout",
     "output_type": "stream",
     "text": [
      "Top five predicted classes: \n",
      "Class: 214\n",
      "Character mapping: ÍÖ\n",
      "Prediction: 3.7159111499786377\n",
      "\n",
      "Class: 167\n",
      "Character mapping: §\n",
      "Prediction: 3.600536584854126\n",
      "\n",
      "Class: 65\n",
      "Character mapping: A\n",
      "Prediction: 3.165142059326172\n",
      "\n",
      "Class: 237\n",
      "Character mapping: ÍÓ\n",
      "Prediction: 2.921231508255005\n",
      "\n",
      "Class: 230\n",
      "Character mapping: æ\n",
      "Prediction: 2.703238010406494\n",
      "\n",
      "Image: \n"
     ]
    },
    {
     "data": {
      "image/jpeg": "[encoded data removed]",
      "image/png": "[encoded data removed]",
      "text/plain": [
       "<PIL.Image.Image image mode=L size=64x64>"
      ]
     },
     "metadata": {},
     "output_type": "display_data"
    },
    {
     "name": "stdout",
     "output_type": "stream",
     "text": [
      "Top five predicted classes: \n",
      "Class: 167\n",
      "Character mapping: §\n",
      "Prediction: 3.6568098068237305\n",
      "\n",
      "Class: 214\n",
      "Character mapping: ÍÖ\n",
      "Prediction: 3.3031952381134033\n",
      "\n",
      "Class: 230\n",
      "Character mapping: æ\n",
      "Prediction: 3.2596828937530518\n",
      "\n",
      "Class: 170\n",
      "Character mapping: ª\n",
      "Prediction: 2.9609270095825195\n",
      "\n",
      "Class: 65\n",
      "Character mapping: A\n",
      "Prediction: 2.9561479091644287\n",
      "\n",
      "Image: \n"
     ]
    },
    {
     "data": {
      "image/jpeg": "[encoded data removed]",
      "image/png": "[encoded data removed]",
      "text/plain": [
       "<PIL.Image.Image image mode=L size=64x64>"
      ]
     },
     "metadata": {},
     "output_type": "display_data"
    },
    {
     "name": "stdout",
     "output_type": "stream",
     "text": [
      "Top five predicted classes: \n",
      "Class: 167\n",
      "Character mapping: §\n",
      "Prediction: 3.6841583251953125\n",
      "\n",
      "Class: 230\n",
      "Character mapping: æ\n",
      "Prediction: 3.494157552719116\n",
      "\n",
      "Class: 188\n",
      "Character mapping: ¼\n",
      "Prediction: 3.301923990249634\n",
      "\n",
      "Class: 214\n",
      "Character mapping: ÍÖ\n",
      "Prediction: 3.217288017272949\n",
      "\n",
      "Class: 207\n",
      "Character mapping: Ï\n",
      "Prediction: 3.15029239654541\n",
      "\n"
     ]
    }
   ],
   "source": [
    "test = utils.load_datasets([\"./test_ds.txt\"], 20)\n",
    "\n",
    "for idx, data in enumerate(test.loader, 0):\n",
    "    inputs, labels = data[0].to(device), data[1].to(device)\n",
    "    predicted = model(inputs)\n",
    "    \n",
    "    for i in range(len(inputs)):\n",
    "        img = inputs[i]\n",
    "        cls_preds = predicted[i]\n",
    "        most_likely = cls_preds.argsort(dim=0, descending=True)[:5].cpu().numpy()\n",
    "        print(\"Image: \")\n",
    "        display(to_pil_image(img[0].cpu()))\n",
    "        print(\"Top five predicted classes: \")\n",
    "        for x in most_likely:\n",
    "            print(f\"Class: {x}\")\n",
    "            print(f\"Character mapping: {char_mappings[x]}\")\n",
    "            print(f\"Prediction: {cls_preds[x].cpu().detach().numpy()}\")\n",
    "            print()\n"
   ]
  },
  {
   "cell_type": "markdown",
   "metadata": {},
   "source": [
    "It looks like the model most often confuses classes 167, 214, and 230 for the letter A - although A is in the top five predictions in all cases! \n",
    "\n",
    "Let's look these up and see which Thai letter they correspond to. \n",
    "\n",
    "```\n",
    "$ cat /home/gusandmich@GU.GU.SE/assignment_1_run_results/runs/thai_english_normal_jointly/data/testing_set.txt | grep \",167,\" | head -n1 | cut -d ',' -f 5\n",
    "\n",
    "/scratch/lt2326-2926-h24/ThaiOCR/ThaiOCR-TrainigSet/Thai/167/200/normal/Bwts212_200_11_16_167.bmp\n",
    "\n",
    "\n",
    "$ cat /home/gusandmich@GU.GU.SE/assignment_1_run_results/runs/thai_english_normal_jointly/data/testing_set.txt | grep \",214,\" | head -n1 | cut -d ',' -f 5\n",
    "\n",
    "/scratch/lt2326-2926-h24/ThaiOCR/ThaiOCR-TrainigSet/Thai/214/200/normal/Dltb211_200_10_08_214.bmp\n",
    "\n",
    "\n",
    "$ cat /home/gusandmich@GU.GU.SE/assignment_1_run_results/runs/thai_english_normal_jointly/data/testing_set.txt | grep \",230,\" | head -n1 | cut -d ',' -f 5\n",
    "\n",
    "/scratch/lt2326-2926-h24/ThaiOCR/ThaiOCR-TrainigSet/Thai/230/200/normal/FSTB211_200_10_10_230.bmp\n",
    "\n",
    "```"
   ]
  },
  {
   "cell_type": "code",
   "execution_count": 81,
   "metadata": {},
   "outputs": [
    {
     "name": "stdout",
     "output_type": "stream",
     "text": [
      "Class: 167\n",
      "Original image:\n"
     ]
    },
    {
     "data": {
      "image/jpeg": "[encoded data removed]",
      "image/png": "[encoded data removed]",
      "text/plain": [
       "<PIL.BmpImagePlugin.BmpImageFile image mode=1 size=11x19>"
      ]
     },
     "metadata": {},
     "output_type": "display_data"
    },
    {
     "name": "stdout",
     "output_type": "stream",
     "text": [
      "Resized image:\n"
     ]
    },
    {
     "data": {
      "image/jpeg": "[encoded data removed]",
      "image/png": "[encoded data removed]",
      "text/plain": [
       "<PIL.Image.Image image mode=1 size=64x64>"
      ]
     },
     "metadata": {},
     "output_type": "display_data"
    },
    {
     "name": "stdout",
     "output_type": "stream",
     "text": [
      "Class: 214\n",
      "Original image:\n"
     ]
    },
    {
     "data": {
      "image/jpeg": "[encoded data removed]",
      "image/png": "[encoded data removed]",
      "text/plain": [
       "<PIL.BmpImagePlugin.BmpImageFile image mode=1 size=7x5>"
      ]
     },
     "metadata": {},
     "output_type": "display_data"
    },
    {
     "name": "stdout",
     "output_type": "stream",
     "text": [
      "Resized image:\n"
     ]
    },
    {
     "data": {
      "image/jpeg": "[encoded data removed]",
      "image/png": "[encoded data removed]",
      "text/plain": [
       "<PIL.Image.Image image mode=1 size=64x64>"
      ]
     },
     "metadata": {},
     "output_type": "display_data"
    },
    {
     "name": "stdout",
     "output_type": "stream",
     "text": [
      "Class: 230\n",
      "Original image:\n"
     ]
    },
    {
     "data": {
      "image/jpeg": "[encoded data removed]",
      "image/png": "[encoded data removed]",
      "text/plain": [
       "<PIL.BmpImagePlugin.BmpImageFile image mode=1 size=8x14>"
      ]
     },
     "metadata": {},
     "output_type": "display_data"
    },
    {
     "name": "stdout",
     "output_type": "stream",
     "text": [
      "Resized image:\n"
     ]
    },
    {
     "data": {
      "image/jpeg": "[encoded data removed]",
      "image/png": "[encoded data removed]",
      "text/plain": [
       "<PIL.Image.Image image mode=1 size=64x64>"
      ]
     },
     "metadata": {},
     "output_type": "display_data"
    }
   ],
   "source": [
    "classes = {\n",
    "    167: \"/scratch/lt2326-2926-h24/ThaiOCR/ThaiOCR-TrainigSet/Thai/167/200/normal/Bwts212_200_11_16_167.bmp\", \n",
    "    214: \"/scratch/lt2326-2926-h24/ThaiOCR/ThaiOCR-TrainigSet/Thai/214/200/normal/Dltb211_200_10_08_214.bmp\",\n",
    "    230: \"/scratch/lt2326-2926-h24/ThaiOCR/ThaiOCR-TrainigSet/Thai/230/200/normal/FSTB211_200_10_10_230.bmp\"\n",
    "}\n",
    "\n",
    "for c in classes:\n",
    "    print(f\"Class: {c}\")\n",
    "    img = Image.open(classes[c])\n",
    "    print(\"Original image:\")\n",
    "    display(img)\n",
    "    print(\"Resized image:\")\n",
    "    display(img.resize((64, 64)))"
   ]
  },
  {
   "cell_type": "markdown",
   "metadata": {},
   "source": [
    "You can see why the model might confuse these for the letter A. 214 is very similar - it's practically an italic letter A! 167 has a top 'hole' and a vertical line on the right, much like an A (though no vertical line on the left). 230 is more tenuous but you could argue it has a long vertical line and a shorter horizontal line, which is kind of like an A.  \n",
    "\n",
    "\n",
    "Looking at these qualitative examples does help us discover a flaw in my method. 214 is very small in size compared to the other letters - I guess it's a vowel diacritic. My resizing method upsizes the characters to all be the same size, so the model loses information about relative scale of letters. With my current evaluation method, that's not a problem, because I upsize both the train and test images to be the same size; but this loss of information is problematic in a 'real-life' situation like what we do in the bonus question. A possible solution to this would be to expand the canvas to 64x64, with the letter in the center at the same size it originally was, rather than upsizing the letter itelf to fill a 64x64 canvas. This would keep information about the relative size of letters.  "
   ]
  }
 ],
 "metadata": {
  "kernelspec": {
   "display_name": "Python 3",
   "language": "python",
   "name": "python3"
  },
  "language_info": {
   "codemirror_mode": {
    "name": "ipython",
    "version": 3
   },
   "file_extension": ".py",
   "mimetype": "text/x-python",
   "name": "python",
   "nbconvert_exporter": "python",
   "pygments_lexer": "ipython3",
   "version": "3.12.3"
  }
 },
 "nbformat": 4,
 "nbformat_minor": 2
}
